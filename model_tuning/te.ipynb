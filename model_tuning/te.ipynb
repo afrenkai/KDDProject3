{
 "cells": [
  {
   "cell_type": "code",
   "id": "initial_id",
   "metadata": {
    "collapsed": true,
    "ExecuteTime": {
     "end_time": "2024-10-24T04:03:25.866438Z",
     "start_time": "2024-10-24T04:03:25.863565Z"
    }
   },
   "source": [
    "import optuna\n",
    "import torch\n",
    "from torch.utils.data import DataLoader, TensorDataset\n",
    "from deep_models import OptionsNN  # Assume your original file is named options_nn.py\n",
    "import logging\n",
    "from preprocess import preprocess\n",
    "import pandas as pd\n"
   ],
   "outputs": [],
   "execution_count": 5
  },
  {
   "metadata": {
    "ExecuteTime": {
     "end_time": "2024-10-24T04:55:49.634943Z",
     "start_time": "2024-10-24T04:55:49.628576Z"
    }
   },
   "cell_type": "code",
   "source": [
    "# Set up logging configuration\n",
    "logging.basicConfig(\n",
    "    level=logging.INFO,  # Set the minimum logging level to INFO\n",
    "    format='%(asctime)s - %(levelname)s - %(message)s',  # Specify the format of log messages\n",
    "    handlers=[\n",
    "        logging.FileHandler(\"tuning.log\"),  # Log to a file named tuning.log\n",
    "        logging.StreamHandler()  # Also output logs to the console\n",
    "    ]\n",
    ")\n",
    "\n",
    "# Define the objective function for optuna to minimize test loss\n",
    "def objective(trial):\n",
    "    # Suggest hyperparameters to tune\n",
    "    input_size = 22  # Based on your fixed input features size\n",
    "    eta = trial.suggest_loguniform('eta', 1e-5, 1e-1)\n",
    "    batch_size = trial.suggest_categorical('batch_size', [16, 32, 64])\n",
    "    init_type = trial.suggest_categorical('init_type', ['kaiming', 'xavier', None])\n",
    "    epochs = trial.suggest_int('epochs', 10, 100)\n",
    "\n",
    "    # Create the model with suggested hyperparameters\n",
    "    model = OptionsNN(input_size=input_size, eta=eta, init_type=init_type)\n",
    "    device = torch.device('cuda' if torch.cuda.is_available() else 'cpu')\n",
    "    df = pd.read_csv(\"../data/options.csv\")  # load data\n",
    "    df_subsample = df.sample(frac=0.3, random_state=69)  # ~400,000\n",
    "    X_train_scaled, y_train, X_test_scaled, y_test = preprocess(df_subsample, remove_outliers=True)\n",
    "    X_train_scaled = torch.tensor(X_train_scaled, dtype=torch.float32)\n",
    "    y_train = torch.tensor(y_train.values, dtype=torch.float32).reshape(-1, 1)\n",
    "    X_test_scaled = torch.tensor(X_test_scaled, dtype=torch.float32)\n",
    "    y_test = torch.tensor(y_test.values, dtype=torch.float32).reshape(-1, 1)\n",
    "    train_dataset = TensorDataset(X_train_scaled, y_train)\n",
    "    train_loader = DataLoader(train_dataset, batch_size=batch_size, shuffle=True)\n",
    "\n",
    "    # Training loop\n",
    "    train_size = len(train_dataset)\n",
    "\n",
    "    for epoch in range(epochs):\n",
    "        model.train()\n",
    "        perm = torch.randperm(train_size).to(device)  # Shuffle training data\n",
    "        for i in range(0, train_size, batch_size):\n",
    "            idxs = perm[i:i + batch_size]\n",
    "            x_bat, y_bat = X_train_scaled[idxs], y_train[idxs]\n",
    "            x_bat, y_bat = x_bat.to(device), y_bat.to(device)\n",
    "\n",
    "            model.optimizer.zero_grad()\n",
    "            y_pred = model(x_bat)\n",
    "            loss = model.criterion(y_pred, y_bat)\n",
    "            loss.backward()\n",
    "            model.optimizer.step()\n",
    "\n",
    "    # Evaluation on the test set after training\n",
    "    test_loss = model.evaluate(X_test_scaled, y_test)\n",
    "\n",
    "    # Log the trial's result\n",
    "    logging.info(f'Trial complete - Test loss: {test_loss:.4f}')\n",
    "\n",
    "    # Return the test loss for optuna to minimize\n",
    "    return test_loss\n",
    "\n",
    "\n",
    "# Run the hyperparameter tuning process\n"
   ],
   "id": "a189ec98aff6b5ce",
   "outputs": [],
   "execution_count": 9
  },
  {
   "metadata": {
    "ExecuteTime": {
     "end_time": "2024-10-25T01:40:54.804894Z",
     "start_time": "2024-10-24T04:55:50.267688Z"
    }
   },
   "cell_type": "code",
   "source": [
    "def run_tuning():\n",
    "    logging.info(\"Starting hyperparameter tuning to minimize test loss.\")\n",
    "    study = optuna.create_study(direction='minimize')\n",
    "    study.optimize(objective, n_trials=50)\n",
    "\n",
    "    # Print and log the best hyperparameters\n",
    "    logging.info(f\"Best hyperparameters: {study.best_params}\")\n",
    "    logging.info(f\"Best test loss: {study.best_value}\")\n",
    "\n",
    "\n",
    "if __name__ == \"__main__\":\n",
    "    run_tuning()\n"
   ],
   "id": "122d82cd60c8317",
   "outputs": [
    {
     "name": "stderr",
     "output_type": "stream",
     "text": [
      "[I 2024-10-24 00:55:50,269] A new study created in memory with name: no-name-1270d063-3b86-420f-bb1f-09e83daba9ca\n",
      "C:\\Users\\Artem Frenk\\AppData\\Local\\Temp\\ipykernel_19336\\2609833236.py:15: FutureWarning: suggest_loguniform has been deprecated in v3.0.0. This feature will be removed in v6.0.0. See https://github.com/optuna/optuna/releases/tag/v3.0.0. Use suggest_float(..., log=True) instead.\n",
      "  eta = trial.suggest_loguniform('eta', 1e-5, 1e-1)\n"
     ]
    },
    {
     "name": "stdout",
     "output_type": "stream",
     "text": [
      "Removing outliers using isolation forests\n",
      "IsolationForest outlier detection removed 8.096906899118396% rows\n",
      "871699 rows remaining\n",
      "Splitting data into training and testing sets.\n",
      "Standardizing training data.\n"
     ]
    },
    {
     "name": "stderr",
     "output_type": "stream",
     "text": [
      "[I 2024-10-24 00:59:40,756] Trial 0 finished with value: 54.66297912597656 and parameters: {'eta': 0.04183435731527055, 'batch_size': 64, 'init_type': 'xavier', 'epochs': 22}. Best is trial 0 with value: 54.66297912597656.\n",
      "C:\\Users\\Artem Frenk\\AppData\\Local\\Temp\\ipykernel_19336\\2609833236.py:15: FutureWarning: suggest_loguniform has been deprecated in v3.0.0. This feature will be removed in v6.0.0. See https://github.com/optuna/optuna/releases/tag/v3.0.0. Use suggest_float(..., log=True) instead.\n",
      "  eta = trial.suggest_loguniform('eta', 1e-5, 1e-1)\n"
     ]
    },
    {
     "name": "stdout",
     "output_type": "stream",
     "text": [
      "Removing outliers using isolation forests\n",
      "IsolationForest outlier detection removed 9.035865125704008% rows\n",
      "862793 rows remaining\n",
      "Splitting data into training and testing sets.\n",
      "Standardizing training data.\n"
     ]
    },
    {
     "name": "stderr",
     "output_type": "stream",
     "text": [
      "[I 2024-10-24 01:20:30,794] Trial 1 finished with value: 37.08955764770508 and parameters: {'eta': 0.0003795926472466274, 'batch_size': 32, 'init_type': 'xavier', 'epochs': 66}. Best is trial 1 with value: 37.08955764770508.\n",
      "C:\\Users\\Artem Frenk\\AppData\\Local\\Temp\\ipykernel_19336\\2609833236.py:15: FutureWarning: suggest_loguniform has been deprecated in v3.0.0. This feature will be removed in v6.0.0. See https://github.com/optuna/optuna/releases/tag/v3.0.0. Use suggest_float(..., log=True) instead.\n",
      "  eta = trial.suggest_loguniform('eta', 1e-5, 1e-1)\n"
     ]
    },
    {
     "name": "stdout",
     "output_type": "stream",
     "text": [
      "Removing outliers using isolation forests\n",
      "IsolationForest outlier detection removed 8.25779284721739% rows\n",
      "870173 rows remaining\n",
      "Splitting data into training and testing sets.\n",
      "Standardizing training data.\n"
     ]
    },
    {
     "name": "stderr",
     "output_type": "stream",
     "text": [
      "[I 2024-10-24 01:29:41,115] Trial 2 finished with value: 54.226036071777344 and parameters: {'eta': 1.6499083765743513e-05, 'batch_size': 64, 'init_type': 'xavier', 'epochs': 56}. Best is trial 1 with value: 37.08955764770508.\n",
      "C:\\Users\\Artem Frenk\\AppData\\Local\\Temp\\ipykernel_19336\\2609833236.py:15: FutureWarning: suggest_loguniform has been deprecated in v3.0.0. This feature will be removed in v6.0.0. See https://github.com/optuna/optuna/releases/tag/v3.0.0. Use suggest_float(..., log=True) instead.\n",
      "  eta = trial.suggest_loguniform('eta', 1e-5, 1e-1)\n"
     ]
    },
    {
     "name": "stdout",
     "output_type": "stream",
     "text": [
      "Removing outliers using isolation forests\n",
      "IsolationForest outlier detection removed 8.472553447661461% rows\n",
      "868136 rows remaining\n",
      "Splitting data into training and testing sets.\n",
      "Standardizing training data.\n"
     ]
    },
    {
     "name": "stderr",
     "output_type": "stream",
     "text": [
      "[I 2024-10-24 01:32:55,743] Trial 3 finished with value: 42.47818374633789 and parameters: {'eta': 0.004058421203629124, 'batch_size': 64, 'init_type': None, 'epochs': 19}. Best is trial 1 with value: 37.08955764770508.\n",
      "C:\\Users\\Artem Frenk\\AppData\\Local\\Temp\\ipykernel_19336\\2609833236.py:15: FutureWarning: suggest_loguniform has been deprecated in v3.0.0. This feature will be removed in v6.0.0. See https://github.com/optuna/optuna/releases/tag/v3.0.0. Use suggest_float(..., log=True) instead.\n",
      "  eta = trial.suggest_loguniform('eta', 1e-5, 1e-1)\n"
     ]
    },
    {
     "name": "stdout",
     "output_type": "stream",
     "text": [
      "Removing outliers using isolation forests\n",
      "IsolationForest outlier detection removed 9.076455617196874% rows\n",
      "862408 rows remaining\n",
      "Splitting data into training and testing sets.\n",
      "Standardizing training data.\n"
     ]
    },
    {
     "name": "stderr",
     "output_type": "stream",
     "text": [
      "[I 2024-10-24 01:41:55,747] Trial 4 finished with value: 78.80989074707031 and parameters: {'eta': 0.09875511251353823, 'batch_size': 16, 'init_type': None, 'epochs': 14}. Best is trial 1 with value: 37.08955764770508.\n",
      "C:\\Users\\Artem Frenk\\AppData\\Local\\Temp\\ipykernel_19336\\2609833236.py:15: FutureWarning: suggest_loguniform has been deprecated in v3.0.0. This feature will be removed in v6.0.0. See https://github.com/optuna/optuna/releases/tag/v3.0.0. Use suggest_float(..., log=True) instead.\n",
      "  eta = trial.suggest_loguniform('eta', 1e-5, 1e-1)\n"
     ]
    },
    {
     "name": "stdout",
     "output_type": "stream",
     "text": [
      "Removing outliers using isolation forests\n",
      "IsolationForest outlier detection removed 8.050201476439591% rows\n",
      "872142 rows remaining\n",
      "Splitting data into training and testing sets.\n",
      "Standardizing training data.\n"
     ]
    },
    {
     "name": "stderr",
     "output_type": "stream",
     "text": [
      "[I 2024-10-24 01:50:30,580] Trial 5 finished with value: 41.944557189941406 and parameters: {'eta': 0.009429453038117416, 'batch_size': 64, 'init_type': 'kaiming', 'epochs': 50}. Best is trial 1 with value: 37.08955764770508.\n",
      "C:\\Users\\Artem Frenk\\AppData\\Local\\Temp\\ipykernel_19336\\2609833236.py:15: FutureWarning: suggest_loguniform has been deprecated in v3.0.0. This feature will be removed in v6.0.0. See https://github.com/optuna/optuna/releases/tag/v3.0.0. Use suggest_float(..., log=True) instead.\n",
      "  eta = trial.suggest_loguniform('eta', 1e-5, 1e-1)\n"
     ]
    },
    {
     "name": "stdout",
     "output_type": "stream",
     "text": [
      "Removing outliers using isolation forests\n",
      "IsolationForest outlier detection removed 8.81193212848103% rows\n",
      "864917 rows remaining\n",
      "Splitting data into training and testing sets.\n",
      "Standardizing training data.\n"
     ]
    },
    {
     "name": "stderr",
     "output_type": "stream",
     "text": [
      "[I 2024-10-24 02:16:17,130] Trial 6 finished with value: 44.53466033935547 and parameters: {'eta': 3.805141919320348e-05, 'batch_size': 32, 'init_type': 'xavier', 'epochs': 83}. Best is trial 1 with value: 37.08955764770508.\n",
      "C:\\Users\\Artem Frenk\\AppData\\Local\\Temp\\ipykernel_19336\\2609833236.py:15: FutureWarning: suggest_loguniform has been deprecated in v3.0.0. This feature will be removed in v6.0.0. See https://github.com/optuna/optuna/releases/tag/v3.0.0. Use suggest_float(..., log=True) instead.\n",
      "  eta = trial.suggest_loguniform('eta', 1e-5, 1e-1)\n"
     ]
    },
    {
     "name": "stdout",
     "output_type": "stream",
     "text": [
      "Removing outliers using isolation forests\n",
      "IsolationForest outlier detection removed 9.054420778957889% rows\n",
      "862617 rows remaining\n",
      "Splitting data into training and testing sets.\n",
      "Standardizing training data.\n"
     ]
    },
    {
     "name": "stderr",
     "output_type": "stream",
     "text": [
      "[I 2024-10-24 02:30:31,621] Trial 7 finished with value: 41.873111724853516 and parameters: {'eta': 0.002281118082707275, 'batch_size': 32, 'init_type': None, 'epochs': 44}. Best is trial 1 with value: 37.08955764770508.\n",
      "C:\\Users\\Artem Frenk\\AppData\\Local\\Temp\\ipykernel_19336\\2609833236.py:15: FutureWarning: suggest_loguniform has been deprecated in v3.0.0. This feature will be removed in v6.0.0. See https://github.com/optuna/optuna/releases/tag/v3.0.0. Use suggest_float(..., log=True) instead.\n",
      "  eta = trial.suggest_loguniform('eta', 1e-5, 1e-1)\n"
     ]
    },
    {
     "name": "stdout",
     "output_type": "stream",
     "text": [
      "Removing outliers using isolation forests\n",
      "IsolationForest outlier detection removed 8.509981043713324% rows\n",
      "867781 rows remaining\n",
      "Splitting data into training and testing sets.\n",
      "Standardizing training data.\n"
     ]
    },
    {
     "name": "stderr",
     "output_type": "stream",
     "text": [
      "[I 2024-10-24 02:40:36,625] Trial 8 finished with value: 50.32596206665039 and parameters: {'eta': 0.029500022679748217, 'batch_size': 64, 'init_type': None, 'epochs': 59}. Best is trial 1 with value: 37.08955764770508.\n",
      "C:\\Users\\Artem Frenk\\AppData\\Local\\Temp\\ipykernel_19336\\2609833236.py:15: FutureWarning: suggest_loguniform has been deprecated in v3.0.0. This feature will be removed in v6.0.0. See https://github.com/optuna/optuna/releases/tag/v3.0.0. Use suggest_float(..., log=True) instead.\n",
      "  eta = trial.suggest_loguniform('eta', 1e-5, 1e-1)\n"
     ]
    },
    {
     "name": "stdout",
     "output_type": "stream",
     "text": [
      "Removing outliers using isolation forests\n",
      "IsolationForest outlier detection removed 8.931278716454859% rows\n",
      "863785 rows remaining\n",
      "Splitting data into training and testing sets.\n",
      "Standardizing training data.\n"
     ]
    },
    {
     "name": "stderr",
     "output_type": "stream",
     "text": [
      "[I 2024-10-24 02:46:36,395] Trial 9 finished with value: 56.6745719909668 and parameters: {'eta': 0.05709162523690342, 'batch_size': 64, 'init_type': None, 'epochs': 35}. Best is trial 1 with value: 37.08955764770508.\n",
      "C:\\Users\\Artem Frenk\\AppData\\Local\\Temp\\ipykernel_19336\\2609833236.py:15: FutureWarning: suggest_loguniform has been deprecated in v3.0.0. This feature will be removed in v6.0.0. See https://github.com/optuna/optuna/releases/tag/v3.0.0. Use suggest_float(..., log=True) instead.\n",
      "  eta = trial.suggest_loguniform('eta', 1e-5, 1e-1)\n"
     ]
    },
    {
     "name": "stdout",
     "output_type": "stream",
     "text": [
      "Removing outliers using isolation forests\n",
      "IsolationForest outlier detection removed 8.53243760134444% rows\n",
      "867568 rows remaining\n",
      "Splitting data into training and testing sets.\n",
      "Standardizing training data.\n"
     ]
    },
    {
     "name": "stderr",
     "output_type": "stream",
     "text": [
      "[I 2024-10-24 03:16:49,491] Trial 10 finished with value: 37.23677444458008 and parameters: {'eta': 0.00022627659636115753, 'batch_size': 32, 'init_type': 'kaiming', 'epochs': 98}. Best is trial 1 with value: 37.08955764770508.\n",
      "C:\\Users\\Artem Frenk\\AppData\\Local\\Temp\\ipykernel_19336\\2609833236.py:15: FutureWarning: suggest_loguniform has been deprecated in v3.0.0. This feature will be removed in v6.0.0. See https://github.com/optuna/optuna/releases/tag/v3.0.0. Use suggest_float(..., log=True) instead.\n",
      "  eta = trial.suggest_loguniform('eta', 1e-5, 1e-1)\n"
     ]
    },
    {
     "name": "stdout",
     "output_type": "stream",
     "text": [
      "Removing outliers using isolation forests\n",
      "IsolationForest outlier detection removed 8.063907356683936% rows\n",
      "872012 rows remaining\n",
      "Splitting data into training and testing sets.\n",
      "Standardizing training data.\n"
     ]
    },
    {
     "name": "stderr",
     "output_type": "stream",
     "text": [
      "[I 2024-10-24 03:47:41,355] Trial 11 finished with value: 36.64209747314453 and parameters: {'eta': 0.00033210478192844783, 'batch_size': 32, 'init_type': 'kaiming', 'epochs': 99}. Best is trial 11 with value: 36.64209747314453.\n",
      "C:\\Users\\Artem Frenk\\AppData\\Local\\Temp\\ipykernel_19336\\2609833236.py:15: FutureWarning: suggest_loguniform has been deprecated in v3.0.0. This feature will be removed in v6.0.0. See https://github.com/optuna/optuna/releases/tag/v3.0.0. Use suggest_float(..., log=True) instead.\n",
      "  eta = trial.suggest_loguniform('eta', 1e-5, 1e-1)\n"
     ]
    },
    {
     "name": "stdout",
     "output_type": "stream",
     "text": [
      "Removing outliers using isolation forests\n",
      "IsolationForest outlier detection removed 7.92642683484836% rows\n",
      "873316 rows remaining\n",
      "Splitting data into training and testing sets.\n",
      "Standardizing training data.\n"
     ]
    },
    {
     "name": "stderr",
     "output_type": "stream",
     "text": [
      "[I 2024-10-24 04:11:04,205] Trial 12 finished with value: 37.810848236083984 and parameters: {'eta': 0.0002609637606532268, 'batch_size': 32, 'init_type': 'kaiming', 'epochs': 74}. Best is trial 11 with value: 36.64209747314453.\n",
      "C:\\Users\\Artem Frenk\\AppData\\Local\\Temp\\ipykernel_19336\\2609833236.py:15: FutureWarning: suggest_loguniform has been deprecated in v3.0.0. This feature will be removed in v6.0.0. See https://github.com/optuna/optuna/releases/tag/v3.0.0. Use suggest_float(..., log=True) instead.\n",
      "  eta = trial.suggest_loguniform('eta', 1e-5, 1e-1)\n"
     ]
    },
    {
     "name": "stdout",
     "output_type": "stream",
     "text": [
      "Removing outliers using isolation forests\n",
      "IsolationForest outlier detection removed 9.339186798496149% rows\n",
      "859916 rows remaining\n",
      "Splitting data into training and testing sets.\n",
      "Standardizing training data.\n"
     ]
    },
    {
     "name": "stderr",
     "output_type": "stream",
     "text": [
      "[I 2024-10-24 04:40:59,114] Trial 13 finished with value: 35.04607391357422 and parameters: {'eta': 0.0003867550092563799, 'batch_size': 32, 'init_type': 'kaiming', 'epochs': 97}. Best is trial 13 with value: 35.04607391357422.\n",
      "C:\\Users\\Artem Frenk\\AppData\\Local\\Temp\\ipykernel_19336\\2609833236.py:15: FutureWarning: suggest_loguniform has been deprecated in v3.0.0. This feature will be removed in v6.0.0. See https://github.com/optuna/optuna/releases/tag/v3.0.0. Use suggest_float(..., log=True) instead.\n",
      "  eta = trial.suggest_loguniform('eta', 1e-5, 1e-1)\n"
     ]
    },
    {
     "name": "stdout",
     "output_type": "stream",
     "text": [
      "Removing outliers using isolation forests\n",
      "IsolationForest outlier detection removed 8.726006802333796% rows\n",
      "865732 rows remaining\n",
      "Splitting data into training and testing sets.\n",
      "Standardizing training data.\n"
     ]
    },
    {
     "name": "stderr",
     "output_type": "stream",
     "text": [
      "[I 2024-10-24 05:41:09,225] Trial 14 finished with value: 38.0318603515625 and parameters: {'eta': 7.927677684010733e-05, 'batch_size': 16, 'init_type': 'kaiming', 'epochs': 99}. Best is trial 13 with value: 35.04607391357422.\n",
      "C:\\Users\\Artem Frenk\\AppData\\Local\\Temp\\ipykernel_19336\\2609833236.py:15: FutureWarning: suggest_loguniform has been deprecated in v3.0.0. This feature will be removed in v6.0.0. See https://github.com/optuna/optuna/releases/tag/v3.0.0. Use suggest_float(..., log=True) instead.\n",
      "  eta = trial.suggest_loguniform('eta', 1e-5, 1e-1)\n"
     ]
    },
    {
     "name": "stdout",
     "output_type": "stream",
     "text": [
      "Removing outliers using isolation forests\n",
      "IsolationForest outlier detection removed 9.124426198052078% rows\n",
      "861953 rows remaining\n",
      "Splitting data into training and testing sets.\n",
      "Standardizing training data.\n"
     ]
    },
    {
     "name": "stderr",
     "output_type": "stream",
     "text": [
      "[I 2024-10-24 06:08:24,566] Trial 15 finished with value: 35.963157653808594 and parameters: {'eta': 0.000984926763704575, 'batch_size': 32, 'init_type': 'kaiming', 'epochs': 86}. Best is trial 13 with value: 35.04607391357422.\n",
      "C:\\Users\\Artem Frenk\\AppData\\Local\\Temp\\ipykernel_19336\\2609833236.py:15: FutureWarning: suggest_loguniform has been deprecated in v3.0.0. This feature will be removed in v6.0.0. See https://github.com/optuna/optuna/releases/tag/v3.0.0. Use suggest_float(..., log=True) instead.\n",
      "  eta = trial.suggest_loguniform('eta', 1e-5, 1e-1)\n"
     ]
    },
    {
     "name": "stdout",
     "output_type": "stream",
     "text": [
      "Removing outliers using isolation forests\n",
      "IsolationForest outlier detection removed 9.117467828081873% rows\n",
      "862019 rows remaining\n",
      "Splitting data into training and testing sets.\n",
      "Standardizing training data.\n"
     ]
    },
    {
     "name": "stderr",
     "output_type": "stream",
     "text": [
      "[I 2024-10-24 06:35:51,943] Trial 16 finished with value: 35.19415283203125 and parameters: {'eta': 0.0011585784965142299, 'batch_size': 32, 'init_type': 'kaiming', 'epochs': 86}. Best is trial 13 with value: 35.04607391357422.\n",
      "C:\\Users\\Artem Frenk\\AppData\\Local\\Temp\\ipykernel_19336\\2609833236.py:15: FutureWarning: suggest_loguniform has been deprecated in v3.0.0. This feature will be removed in v6.0.0. See https://github.com/optuna/optuna/releases/tag/v3.0.0. Use suggest_float(..., log=True) instead.\n",
      "  eta = trial.suggest_loguniform('eta', 1e-5, 1e-1)\n"
     ]
    },
    {
     "name": "stdout",
     "output_type": "stream",
     "text": [
      "Removing outliers using isolation forests\n",
      "IsolationForest outlier detection removed 8.020681118990234% rows\n",
      "872422 rows remaining\n",
      "Splitting data into training and testing sets.\n",
      "Standardizing training data.\n"
     ]
    },
    {
     "name": "stderr",
     "output_type": "stream",
     "text": [
      "[I 2024-10-24 07:03:16,353] Trial 17 finished with value: 35.49519729614258 and parameters: {'eta': 0.0009874874747443467, 'batch_size': 32, 'init_type': 'kaiming', 'epochs': 85}. Best is trial 13 with value: 35.04607391357422.\n",
      "C:\\Users\\Artem Frenk\\AppData\\Local\\Temp\\ipykernel_19336\\2609833236.py:15: FutureWarning: suggest_loguniform has been deprecated in v3.0.0. This feature will be removed in v6.0.0. See https://github.com/optuna/optuna/releases/tag/v3.0.0. Use suggest_float(..., log=True) instead.\n",
      "  eta = trial.suggest_loguniform('eta', 1e-5, 1e-1)\n"
     ]
    },
    {
     "name": "stdout",
     "output_type": "stream",
     "text": [
      "Removing outliers using isolation forests\n",
      "IsolationForest outlier detection removed 7.985151260202974% rows\n",
      "872759 rows remaining\n",
      "Splitting data into training and testing sets.\n",
      "Standardizing training data.\n"
     ]
    },
    {
     "name": "stderr",
     "output_type": "stream",
     "text": [
      "[I 2024-10-24 07:52:59,709] Trial 18 finished with value: 49.2901611328125 and parameters: {'eta': 0.008406291434507588, 'batch_size': 16, 'init_type': 'kaiming', 'epochs': 75}. Best is trial 13 with value: 35.04607391357422.\n",
      "C:\\Users\\Artem Frenk\\AppData\\Local\\Temp\\ipykernel_19336\\2609833236.py:15: FutureWarning: suggest_loguniform has been deprecated in v3.0.0. This feature will be removed in v6.0.0. See https://github.com/optuna/optuna/releases/tag/v3.0.0. Use suggest_float(..., log=True) instead.\n",
      "  eta = trial.suggest_loguniform('eta', 1e-5, 1e-1)\n"
     ]
    },
    {
     "name": "stdout",
     "output_type": "stream",
     "text": [
      "Removing outliers using isolation forests\n",
      "IsolationForest outlier detection removed 8.538763392226446% rows\n",
      "867508 rows remaining\n",
      "Splitting data into training and testing sets.\n",
      "Standardizing training data.\n"
     ]
    },
    {
     "name": "stderr",
     "output_type": "stream",
     "text": [
      "[I 2024-10-24 08:21:01,041] Trial 19 finished with value: 42.696556091308594 and parameters: {'eta': 9.624380683083738e-05, 'batch_size': 32, 'init_type': 'kaiming', 'epochs': 89}. Best is trial 13 with value: 35.04607391357422.\n",
      "C:\\Users\\Artem Frenk\\AppData\\Local\\Temp\\ipykernel_19336\\2609833236.py:15: FutureWarning: suggest_loguniform has been deprecated in v3.0.0. This feature will be removed in v6.0.0. See https://github.com/optuna/optuna/releases/tag/v3.0.0. Use suggest_float(..., log=True) instead.\n",
      "  eta = trial.suggest_loguniform('eta', 1e-5, 1e-1)\n"
     ]
    },
    {
     "name": "stdout",
     "output_type": "stream",
     "text": [
      "Removing outliers using isolation forests\n",
      "IsolationForest outlier detection removed 8.4386050365947% rows\n",
      "868458 rows remaining\n",
      "Splitting data into training and testing sets.\n",
      "Standardizing training data.\n"
     ]
    },
    {
     "name": "stderr",
     "output_type": "stream",
     "text": [
      "[I 2024-10-24 08:45:26,558] Trial 20 finished with value: 37.03145980834961 and parameters: {'eta': 0.0031565866189194078, 'batch_size': 32, 'init_type': 'kaiming', 'epochs': 73}. Best is trial 13 with value: 35.04607391357422.\n",
      "C:\\Users\\Artem Frenk\\AppData\\Local\\Temp\\ipykernel_19336\\2609833236.py:15: FutureWarning: suggest_loguniform has been deprecated in v3.0.0. This feature will be removed in v6.0.0. See https://github.com/optuna/optuna/releases/tag/v3.0.0. Use suggest_float(..., log=True) instead.\n",
      "  eta = trial.suggest_loguniform('eta', 1e-5, 1e-1)\n"
     ]
    },
    {
     "name": "stdout",
     "output_type": "stream",
     "text": [
      "Removing outliers using isolation forests\n",
      "IsolationForest outlier detection removed 8.668547535155582% rows\n",
      "866277 rows remaining\n",
      "Splitting data into training and testing sets.\n",
      "Standardizing training data.\n"
     ]
    },
    {
     "name": "stderr",
     "output_type": "stream",
     "text": [
      "[I 2024-10-24 09:14:25,330] Trial 21 finished with value: 35.0164680480957 and parameters: {'eta': 0.0009847693315505736, 'batch_size': 32, 'init_type': 'kaiming', 'epochs': 89}. Best is trial 21 with value: 35.0164680480957.\n",
      "C:\\Users\\Artem Frenk\\AppData\\Local\\Temp\\ipykernel_19336\\2609833236.py:15: FutureWarning: suggest_loguniform has been deprecated in v3.0.0. This feature will be removed in v6.0.0. See https://github.com/optuna/optuna/releases/tag/v3.0.0. Use suggest_float(..., log=True) instead.\n",
      "  eta = trial.suggest_loguniform('eta', 1e-5, 1e-1)\n"
     ]
    },
    {
     "name": "stdout",
     "output_type": "stream",
     "text": [
      "Removing outliers using isolation forests\n",
      "IsolationForest outlier detection removed 8.695643006100171% rows\n",
      "866020 rows remaining\n",
      "Splitting data into training and testing sets.\n",
      "Standardizing training data.\n"
     ]
    },
    {
     "name": "stderr",
     "output_type": "stream",
     "text": [
      "[I 2024-10-24 09:43:02,849] Trial 22 finished with value: 35.23173904418945 and parameters: {'eta': 0.0006093362393243099, 'batch_size': 32, 'init_type': 'kaiming', 'epochs': 89}. Best is trial 21 with value: 35.0164680480957.\n",
      "C:\\Users\\Artem Frenk\\AppData\\Local\\Temp\\ipykernel_19336\\2609833236.py:15: FutureWarning: suggest_loguniform has been deprecated in v3.0.0. This feature will be removed in v6.0.0. See https://github.com/optuna/optuna/releases/tag/v3.0.0. Use suggest_float(..., log=True) instead.\n",
      "  eta = trial.suggest_loguniform('eta', 1e-5, 1e-1)\n"
     ]
    },
    {
     "name": "stdout",
     "output_type": "stream",
     "text": [
      "Removing outliers using isolation forests\n",
      "IsolationForest outlier detection removed 7.020151861153107% rows\n",
      "881912 rows remaining\n",
      "Splitting data into training and testing sets.\n",
      "Standardizing training data.\n"
     ]
    },
    {
     "name": "stderr",
     "output_type": "stream",
     "text": [
      "[I 2024-10-24 10:14:02,300] Trial 23 finished with value: 36.38255310058594 and parameters: {'eta': 0.0018552037891679512, 'batch_size': 32, 'init_type': 'kaiming', 'epochs': 93}. Best is trial 21 with value: 35.0164680480957.\n",
      "C:\\Users\\Artem Frenk\\AppData\\Local\\Temp\\ipykernel_19336\\2609833236.py:15: FutureWarning: suggest_loguniform has been deprecated in v3.0.0. This feature will be removed in v6.0.0. See https://github.com/optuna/optuna/releases/tag/v3.0.0. Use suggest_float(..., log=True) instead.\n",
      "  eta = trial.suggest_loguniform('eta', 1e-5, 1e-1)\n"
     ]
    },
    {
     "name": "stdout",
     "output_type": "stream",
     "text": [
      "Removing outliers using isolation forests\n",
      "IsolationForest outlier detection removed 7.971339950110596% rows\n",
      "872890 rows remaining\n",
      "Splitting data into training and testing sets.\n",
      "Standardizing training data.\n"
     ]
    },
    {
     "name": "stderr",
     "output_type": "stream",
     "text": [
      "[I 2024-10-24 10:39:21,229] Trial 24 finished with value: 38.998477935791016 and parameters: {'eta': 0.0001042257869889919, 'batch_size': 32, 'init_type': 'kaiming', 'epochs': 80}. Best is trial 21 with value: 35.0164680480957.\n",
      "C:\\Users\\Artem Frenk\\AppData\\Local\\Temp\\ipykernel_19336\\2609833236.py:15: FutureWarning: suggest_loguniform has been deprecated in v3.0.0. This feature will be removed in v6.0.0. See https://github.com/optuna/optuna/releases/tag/v3.0.0. Use suggest_float(..., log=True) instead.\n",
      "  eta = trial.suggest_loguniform('eta', 1e-5, 1e-1)\n"
     ]
    },
    {
     "name": "stdout",
     "output_type": "stream",
     "text": [
      "Removing outliers using isolation forests\n",
      "IsolationForest outlier detection removed 9.012354269592556% rows\n",
      "863016 rows remaining\n",
      "Splitting data into training and testing sets.\n",
      "Standardizing training data.\n"
     ]
    },
    {
     "name": "stderr",
     "output_type": "stream",
     "text": [
      "[I 2024-10-24 11:20:45,118] Trial 25 finished with value: 41.053585052490234 and parameters: {'eta': 0.0065660678110417035, 'batch_size': 16, 'init_type': 'kaiming', 'epochs': 63}. Best is trial 21 with value: 35.0164680480957.\n",
      "C:\\Users\\Artem Frenk\\AppData\\Local\\Temp\\ipykernel_19336\\2609833236.py:15: FutureWarning: suggest_loguniform has been deprecated in v3.0.0. This feature will be removed in v6.0.0. See https://github.com/optuna/optuna/releases/tag/v3.0.0. Use suggest_float(..., log=True) instead.\n",
      "  eta = trial.suggest_loguniform('eta', 1e-5, 1e-1)\n"
     ]
    },
    {
     "name": "stdout",
     "output_type": "stream",
     "text": [
      "Removing outliers using isolation forests\n",
      "IsolationForest outlier detection removed 8.391161604979663% rows\n",
      "868908 rows remaining\n",
      "Splitting data into training and testing sets.\n",
      "Standardizing training data.\n"
     ]
    },
    {
     "name": "stderr",
     "output_type": "stream",
     "text": [
      "[I 2024-10-24 11:51:20,066] Trial 26 finished with value: 36.48085403442383 and parameters: {'eta': 0.0016091726481504492, 'batch_size': 32, 'init_type': 'kaiming', 'epochs': 93}. Best is trial 21 with value: 35.0164680480957.\n",
      "C:\\Users\\Artem Frenk\\AppData\\Local\\Temp\\ipykernel_19336\\2609833236.py:15: FutureWarning: suggest_loguniform has been deprecated in v3.0.0. This feature will be removed in v6.0.0. See https://github.com/optuna/optuna/releases/tag/v3.0.0. Use suggest_float(..., log=True) instead.\n",
      "  eta = trial.suggest_loguniform('eta', 1e-5, 1e-1)\n"
     ]
    },
    {
     "name": "stdout",
     "output_type": "stream",
     "text": [
      "Removing outliers using isolation forests\n",
      "IsolationForest outlier detection removed 8.289421801627416% rows\n",
      "869873 rows remaining\n",
      "Splitting data into training and testing sets.\n",
      "Standardizing training data.\n"
     ]
    },
    {
     "name": "stderr",
     "output_type": "stream",
     "text": [
      "[I 2024-10-24 12:13:23,725] Trial 27 finished with value: 37.54533767700195 and parameters: {'eta': 0.0006369884556814872, 'batch_size': 32, 'init_type': 'kaiming', 'epochs': 68}. Best is trial 21 with value: 35.0164680480957.\n",
      "C:\\Users\\Artem Frenk\\AppData\\Local\\Temp\\ipykernel_19336\\2609833236.py:15: FutureWarning: suggest_loguniform has been deprecated in v3.0.0. This feature will be removed in v6.0.0. See https://github.com/optuna/optuna/releases/tag/v3.0.0. Use suggest_float(..., log=True) instead.\n",
      "  eta = trial.suggest_loguniform('eta', 1e-5, 1e-1)\n"
     ]
    },
    {
     "name": "stdout",
     "output_type": "stream",
     "text": [
      "Removing outliers using isolation forests\n",
      "IsolationForest outlier detection removed 8.20845167833775% rows\n",
      "870641 rows remaining\n",
      "Splitting data into training and testing sets.\n",
      "Standardizing training data.\n"
     ]
    },
    {
     "name": "stderr",
     "output_type": "stream",
     "text": [
      "[I 2024-10-24 12:39:10,767] Trial 28 finished with value: 38.10969161987305 and parameters: {'eta': 0.00017639814059855542, 'batch_size': 32, 'init_type': 'kaiming', 'epochs': 81}. Best is trial 21 with value: 35.0164680480957.\n",
      "C:\\Users\\Artem Frenk\\AppData\\Local\\Temp\\ipykernel_19336\\2609833236.py:15: FutureWarning: suggest_loguniform has been deprecated in v3.0.0. This feature will be removed in v6.0.0. See https://github.com/optuna/optuna/releases/tag/v3.0.0. Use suggest_float(..., log=True) instead.\n",
      "  eta = trial.suggest_loguniform('eta', 1e-5, 1e-1)\n"
     ]
    },
    {
     "name": "stdout",
     "output_type": "stream",
     "text": [
      "Removing outliers using isolation forests\n",
      "IsolationForest outlier detection removed 7.420152704591891% rows\n",
      "878118 rows remaining\n",
      "Splitting data into training and testing sets.\n",
      "Standardizing training data.\n"
     ]
    },
    {
     "name": "stderr",
     "output_type": "stream",
     "text": [
      "[I 2024-10-24 12:58:21,523] Trial 29 finished with value: 38.679962158203125 and parameters: {'eta': 0.0006276940042479129, 'batch_size': 16, 'init_type': 'kaiming', 'epochs': 30}. Best is trial 21 with value: 35.0164680480957.\n",
      "C:\\Users\\Artem Frenk\\AppData\\Local\\Temp\\ipykernel_19336\\2609833236.py:15: FutureWarning: suggest_loguniform has been deprecated in v3.0.0. This feature will be removed in v6.0.0. See https://github.com/optuna/optuna/releases/tag/v3.0.0. Use suggest_float(..., log=True) instead.\n",
      "  eta = trial.suggest_loguniform('eta', 1e-5, 1e-1)\n"
     ]
    },
    {
     "name": "stdout",
     "output_type": "stream",
     "text": [
      "Removing outliers using isolation forests\n",
      "IsolationForest outlier detection removed 7.180510660011935% rows\n",
      "880391 rows remaining\n",
      "Splitting data into training and testing sets.\n",
      "Standardizing training data.\n"
     ]
    },
    {
     "name": "stderr",
     "output_type": "stream",
     "text": [
      "[I 2024-10-24 13:25:16,421] Trial 30 finished with value: 54.02009201049805 and parameters: {'eta': 0.016857698978760802, 'batch_size': 32, 'init_type': 'xavier', 'epochs': 78}. Best is trial 21 with value: 35.0164680480957.\n",
      "C:\\Users\\Artem Frenk\\AppData\\Local\\Temp\\ipykernel_19336\\2609833236.py:15: FutureWarning: suggest_loguniform has been deprecated in v3.0.0. This feature will be removed in v6.0.0. See https://github.com/optuna/optuna/releases/tag/v3.0.0. Use suggest_float(..., log=True) instead.\n",
      "  eta = trial.suggest_loguniform('eta', 1e-5, 1e-1)\n"
     ]
    },
    {
     "name": "stdout",
     "output_type": "stream",
     "text": [
      "Removing outliers using isolation forests\n",
      "IsolationForest outlier detection removed 7.528007439130077% rows\n",
      "877095 rows remaining\n",
      "Splitting data into training and testing sets.\n",
      "Standardizing training data.\n"
     ]
    },
    {
     "name": "stderr",
     "output_type": "stream",
     "text": [
      "[I 2024-10-24 13:54:29,508] Trial 31 finished with value: 35.09745407104492 and parameters: {'eta': 0.0004643286739535356, 'batch_size': 32, 'init_type': 'kaiming', 'epochs': 90}. Best is trial 21 with value: 35.0164680480957.\n",
      "C:\\Users\\Artem Frenk\\AppData\\Local\\Temp\\ipykernel_19336\\2609833236.py:15: FutureWarning: suggest_loguniform has been deprecated in v3.0.0. This feature will be removed in v6.0.0. See https://github.com/optuna/optuna/releases/tag/v3.0.0. Use suggest_float(..., log=True) instead.\n",
      "  eta = trial.suggest_loguniform('eta', 1e-5, 1e-1)\n"
     ]
    },
    {
     "name": "stdout",
     "output_type": "stream",
     "text": [
      "Removing outliers using isolation forests\n",
      "IsolationForest outlier detection removed 8.688684636129965% rows\n",
      "866086 rows remaining\n",
      "Splitting data into training and testing sets.\n",
      "Standardizing training data.\n"
     ]
    },
    {
     "name": "stderr",
     "output_type": "stream",
     "text": [
      "[I 2024-10-24 14:23:55,894] Trial 32 finished with value: 35.347286224365234 and parameters: {'eta': 0.00044759106941586884, 'batch_size': 32, 'init_type': 'kaiming', 'epochs': 92}. Best is trial 21 with value: 35.0164680480957.\n",
      "C:\\Users\\Artem Frenk\\AppData\\Local\\Temp\\ipykernel_19336\\2609833236.py:15: FutureWarning: suggest_loguniform has been deprecated in v3.0.0. This feature will be removed in v6.0.0. See https://github.com/optuna/optuna/releases/tag/v3.0.0. Use suggest_float(..., log=True) instead.\n",
      "  eta = trial.suggest_loguniform('eta', 1e-5, 1e-1)\n"
     ]
    },
    {
     "name": "stdout",
     "output_type": "stream",
     "text": [
      "Removing outliers using isolation forests\n",
      "IsolationForest outlier detection removed 7.890158967124865% rows\n",
      "873660 rows remaining\n",
      "Splitting data into training and testing sets.\n",
      "Standardizing training data.\n"
     ]
    },
    {
     "name": "stderr",
     "output_type": "stream",
     "text": [
      "[I 2024-10-24 14:46:57,164] Trial 33 finished with value: 36.708404541015625 and parameters: {'eta': 0.0012886427355381534, 'batch_size': 32, 'init_type': 'xavier', 'epochs': 69}. Best is trial 21 with value: 35.0164680480957.\n",
      "C:\\Users\\Artem Frenk\\AppData\\Local\\Temp\\ipykernel_19336\\2609833236.py:15: FutureWarning: suggest_loguniform has been deprecated in v3.0.0. This feature will be removed in v6.0.0. See https://github.com/optuna/optuna/releases/tag/v3.0.0. Use suggest_float(..., log=True) instead.\n",
      "  eta = trial.suggest_loguniform('eta', 1e-5, 1e-1)\n"
     ]
    },
    {
     "name": "stdout",
     "output_type": "stream",
     "text": [
      "Removing outliers using isolation forests\n",
      "IsolationForest outlier detection removed 8.756476028415452% rows\n",
      "865443 rows remaining\n",
      "Splitting data into training and testing sets.\n",
      "Standardizing training data.\n"
     ]
    },
    {
     "name": "stderr",
     "output_type": "stream",
     "text": [
      "[I 2024-10-24 15:17:16,225] Trial 34 finished with value: 41.37742614746094 and parameters: {'eta': 4.9100052523342007e-05, 'batch_size': 32, 'init_type': 'kaiming', 'epochs': 95}. Best is trial 21 with value: 35.0164680480957.\n",
      "C:\\Users\\Artem Frenk\\AppData\\Local\\Temp\\ipykernel_19336\\2609833236.py:15: FutureWarning: suggest_loguniform has been deprecated in v3.0.0. This feature will be removed in v6.0.0. See https://github.com/optuna/optuna/releases/tag/v3.0.0. Use suggest_float(..., log=True) instead.\n",
      "  eta = trial.suggest_loguniform('eta', 1e-5, 1e-1)\n"
     ]
    },
    {
     "name": "stdout",
     "output_type": "stream",
     "text": [
      "Removing outliers using isolation forests\n",
      "IsolationForest outlier detection removed 8.417097347595883% rows\n",
      "868662 rows remaining\n",
      "Splitting data into training and testing sets.\n",
      "Standardizing training data.\n"
     ]
    },
    {
     "name": "stderr",
     "output_type": "stream",
     "text": [
      "[I 2024-10-24 15:45:18,399] Trial 35 finished with value: 51.17076110839844 and parameters: {'eta': 1.2552409486309789e-05, 'batch_size': 32, 'init_type': 'xavier', 'epochs': 87}. Best is trial 21 with value: 35.0164680480957.\n",
      "C:\\Users\\Artem Frenk\\AppData\\Local\\Temp\\ipykernel_19336\\2609833236.py:15: FutureWarning: suggest_loguniform has been deprecated in v3.0.0. This feature will be removed in v6.0.0. See https://github.com/optuna/optuna/releases/tag/v3.0.0. Use suggest_float(..., log=True) instead.\n",
      "  eta = trial.suggest_loguniform('eta', 1e-5, 1e-1)\n"
     ]
    },
    {
     "name": "stdout",
     "output_type": "stream",
     "text": [
      "Removing outliers using isolation forests\n",
      "IsolationForest outlier detection removed 8.274977912446836% rows\n",
      "870010 rows remaining\n",
      "Splitting data into training and testing sets.\n",
      "Standardizing training data.\n"
     ]
    },
    {
     "name": "stderr",
     "output_type": "stream",
     "text": [
      "[I 2024-10-24 16:02:48,178] Trial 36 finished with value: 37.89000701904297 and parameters: {'eta': 0.003690375342357076, 'batch_size': 64, 'init_type': 'kaiming', 'epochs': 100}. Best is trial 21 with value: 35.0164680480957.\n",
      "C:\\Users\\Artem Frenk\\AppData\\Local\\Temp\\ipykernel_19336\\2609833236.py:15: FutureWarning: suggest_loguniform has been deprecated in v3.0.0. This feature will be removed in v6.0.0. See https://github.com/optuna/optuna/releases/tag/v3.0.0. Use suggest_float(..., log=True) instead.\n",
      "  eta = trial.suggest_loguniform('eta', 1e-5, 1e-1)\n"
     ]
    },
    {
     "name": "stdout",
     "output_type": "stream",
     "text": [
      "Removing outliers using isolation forests\n",
      "IsolationForest outlier detection removed 9.183466912950792% rows\n",
      "861393 rows remaining\n",
      "Splitting data into training and testing sets.\n",
      "Standardizing training data.\n"
     ]
    },
    {
     "name": "stderr",
     "output_type": "stream",
     "text": [
      "[I 2024-10-24 16:29:25,775] Trial 37 finished with value: 37.030982971191406 and parameters: {'eta': 0.0001934367597143949, 'batch_size': 32, 'init_type': None, 'epochs': 83}. Best is trial 21 with value: 35.0164680480957.\n",
      "C:\\Users\\Artem Frenk\\AppData\\Local\\Temp\\ipykernel_19336\\2609833236.py:15: FutureWarning: suggest_loguniform has been deprecated in v3.0.0. This feature will be removed in v6.0.0. See https://github.com/optuna/optuna/releases/tag/v3.0.0. Use suggest_float(..., log=True) instead.\n",
      "  eta = trial.suggest_loguniform('eta', 1e-5, 1e-1)\n"
     ]
    },
    {
     "name": "stdout",
     "output_type": "stream",
     "text": [
      "Removing outliers using isolation forests\n",
      "IsolationForest outlier detection removed 9.70734782782884% rows\n",
      "856424 rows remaining\n",
      "Splitting data into training and testing sets.\n",
      "Standardizing training data.\n"
     ]
    },
    {
     "name": "stderr",
     "output_type": "stream",
     "text": [
      "[I 2024-10-24 16:45:48,701] Trial 38 finished with value: 37.20128631591797 and parameters: {'eta': 0.0004236130782303979, 'batch_size': 32, 'init_type': 'kaiming', 'epochs': 52}. Best is trial 21 with value: 35.0164680480957.\n",
      "C:\\Users\\Artem Frenk\\AppData\\Local\\Temp\\ipykernel_19336\\2609833236.py:15: FutureWarning: suggest_loguniform has been deprecated in v3.0.0. This feature will be removed in v6.0.0. See https://github.com/optuna/optuna/releases/tag/v3.0.0. Use suggest_float(..., log=True) instead.\n",
      "  eta = trial.suggest_loguniform('eta', 1e-5, 1e-1)\n"
     ]
    },
    {
     "name": "stdout",
     "output_type": "stream",
     "text": [
      "Removing outliers using isolation forests\n",
      "IsolationForest outlier detection removed 7.859373451499107% rows\n",
      "873952 rows remaining\n",
      "Splitting data into training and testing sets.\n",
      "Standardizing training data.\n"
     ]
    },
    {
     "name": "stderr",
     "output_type": "stream",
     "text": [
      "[I 2024-10-24 17:45:46,779] Trial 39 finished with value: 36.617584228515625 and parameters: {'eta': 0.0009323645087532577, 'batch_size': 16, 'init_type': 'xavier', 'epochs': 91}. Best is trial 21 with value: 35.0164680480957.\n",
      "C:\\Users\\Artem Frenk\\AppData\\Local\\Temp\\ipykernel_19336\\2609833236.py:15: FutureWarning: suggest_loguniform has been deprecated in v3.0.0. This feature will be removed in v6.0.0. See https://github.com/optuna/optuna/releases/tag/v3.0.0. Use suggest_float(..., log=True) instead.\n",
      "  eta = trial.suggest_loguniform('eta', 1e-5, 1e-1)\n"
     ]
    },
    {
     "name": "stdout",
     "output_type": "stream",
     "text": [
      "Removing outliers using isolation forests\n",
      "IsolationForest outlier detection removed 9.243034777089672% rows\n",
      "860828 rows remaining\n",
      "Splitting data into training and testing sets.\n",
      "Standardizing training data.\n"
     ]
    },
    {
     "name": "stderr",
     "output_type": "stream",
     "text": [
      "[I 2024-10-24 17:59:21,051] Trial 40 finished with value: 40.9947395324707 and parameters: {'eta': 0.005023356492427928, 'batch_size': 64, 'init_type': None, 'epochs': 78}. Best is trial 21 with value: 35.0164680480957.\n",
      "C:\\Users\\Artem Frenk\\AppData\\Local\\Temp\\ipykernel_19336\\2609833236.py:15: FutureWarning: suggest_loguniform has been deprecated in v3.0.0. This feature will be removed in v6.0.0. See https://github.com/optuna/optuna/releases/tag/v3.0.0. Use suggest_float(..., log=True) instead.\n",
      "  eta = trial.suggest_loguniform('eta', 1e-5, 1e-1)\n"
     ]
    },
    {
     "name": "stdout",
     "output_type": "stream",
     "text": [
      "Removing outliers using isolation forests\n",
      "IsolationForest outlier detection removed 8.621314963236612% rows\n",
      "866725 rows remaining\n",
      "Splitting data into training and testing sets.\n",
      "Standardizing training data.\n"
     ]
    },
    {
     "name": "stderr",
     "output_type": "stream",
     "text": [
      "[I 2024-10-24 18:27:53,590] Trial 41 finished with value: 34.82684326171875 and parameters: {'eta': 0.0007517183190905037, 'batch_size': 32, 'init_type': 'kaiming', 'epochs': 89}. Best is trial 41 with value: 34.82684326171875.\n",
      "C:\\Users\\Artem Frenk\\AppData\\Local\\Temp\\ipykernel_19336\\2609833236.py:15: FutureWarning: suggest_loguniform has been deprecated in v3.0.0. This feature will be removed in v6.0.0. See https://github.com/optuna/optuna/releases/tag/v3.0.0. Use suggest_float(..., log=True) instead.\n",
      "  eta = trial.suggest_loguniform('eta', 1e-5, 1e-1)\n"
     ]
    },
    {
     "name": "stdout",
     "output_type": "stream",
     "text": [
      "Removing outliers using isolation forests\n",
      "IsolationForest outlier detection removed 7.4110857376610175% rows\n",
      "878204 rows remaining\n",
      "Splitting data into training and testing sets.\n",
      "Standardizing training data.\n"
     ]
    },
    {
     "name": "stderr",
     "output_type": "stream",
     "text": [
      "[I 2024-10-24 19:00:26,501] Trial 42 finished with value: 37.2347412109375 and parameters: {'eta': 0.0020596105276935108, 'batch_size': 32, 'init_type': 'kaiming', 'epochs': 96}. Best is trial 41 with value: 34.82684326171875.\n",
      "C:\\Users\\Artem Frenk\\AppData\\Local\\Temp\\ipykernel_19336\\2609833236.py:15: FutureWarning: suggest_loguniform has been deprecated in v3.0.0. This feature will be removed in v6.0.0. See https://github.com/optuna/optuna/releases/tag/v3.0.0. Use suggest_float(..., log=True) instead.\n",
      "  eta = trial.suggest_loguniform('eta', 1e-5, 1e-1)\n"
     ]
    },
    {
     "name": "stdout",
     "output_type": "stream",
     "text": [
      "Removing outliers using isolation forests\n",
      "IsolationForest outlier detection removed 8.090791967932457% rows\n",
      "871757 rows remaining\n",
      "Splitting data into training and testing sets.\n",
      "Standardizing training data.\n"
     ]
    },
    {
     "name": "stderr",
     "output_type": "stream",
     "text": [
      "[I 2024-10-24 19:27:59,332] Trial 43 finished with value: 38.62273025512695 and parameters: {'eta': 0.00015991343322471394, 'batch_size': 32, 'init_type': 'kaiming', 'epochs': 86}. Best is trial 41 with value: 34.82684326171875.\n",
      "C:\\Users\\Artem Frenk\\AppData\\Local\\Temp\\ipykernel_19336\\2609833236.py:15: FutureWarning: suggest_loguniform has been deprecated in v3.0.0. This feature will be removed in v6.0.0. See https://github.com/optuna/optuna/releases/tag/v3.0.0. Use suggest_float(..., log=True) instead.\n",
      "  eta = trial.suggest_loguniform('eta', 1e-5, 1e-1)\n"
     ]
    },
    {
     "name": "stdout",
     "output_type": "stream",
     "text": [
      "Removing outliers using isolation forests\n",
      "IsolationForest outlier detection removed 9.059797701207593% rows\n",
      "862566 rows remaining\n",
      "Splitting data into training and testing sets.\n",
      "Standardizing training data.\n"
     ]
    },
    {
     "name": "stderr",
     "output_type": "stream",
     "text": [
      "[I 2024-10-24 19:59:33,026] Trial 44 finished with value: 36.935089111328125 and parameters: {'eta': 0.0026907702020304743, 'batch_size': 32, 'init_type': 'kaiming', 'epochs': 95}. Best is trial 41 with value: 34.82684326171875.\n",
      "C:\\Users\\Artem Frenk\\AppData\\Local\\Temp\\ipykernel_19336\\2609833236.py:15: FutureWarning: suggest_loguniform has been deprecated in v3.0.0. This feature will be removed in v6.0.0. See https://github.com/optuna/optuna/releases/tag/v3.0.0. Use suggest_float(..., log=True) instead.\n",
      "  eta = trial.suggest_loguniform('eta', 1e-5, 1e-1)\n"
     ]
    },
    {
     "name": "stdout",
     "output_type": "stream",
     "text": [
      "Removing outliers using isolation forests\n",
      "IsolationForest outlier detection removed 7.182408397276536% rows\n",
      "880373 rows remaining\n",
      "Splitting data into training and testing sets.\n",
      "Standardizing training data.\n"
     ]
    },
    {
     "name": "stderr",
     "output_type": "stream",
     "text": [
      "[I 2024-10-24 20:20:17,092] Trial 45 finished with value: 35.85793685913086 and parameters: {'eta': 0.0006241084083954183, 'batch_size': 32, 'init_type': 'kaiming', 'epochs': 63}. Best is trial 41 with value: 34.82684326171875.\n",
      "C:\\Users\\Artem Frenk\\AppData\\Local\\Temp\\ipykernel_19336\\2609833236.py:15: FutureWarning: suggest_loguniform has been deprecated in v3.0.0. This feature will be removed in v6.0.0. See https://github.com/optuna/optuna/releases/tag/v3.0.0. Use suggest_float(..., log=True) instead.\n",
      "  eta = trial.suggest_loguniform('eta', 1e-5, 1e-1)\n"
     ]
    },
    {
     "name": "stdout",
     "output_type": "stream",
     "text": [
      "Removing outliers using isolation forests\n",
      "IsolationForest outlier detection removed 7.836916893867989% rows\n",
      "874165 rows remaining\n",
      "Splitting data into training and testing sets.\n",
      "Standardizing training data.\n"
     ]
    },
    {
     "name": "stderr",
     "output_type": "stream",
     "text": [
      "[I 2024-10-24 20:35:27,145] Trial 46 finished with value: 37.82918167114258 and parameters: {'eta': 0.0003048315949005234, 'batch_size': 64, 'init_type': None, 'epochs': 89}. Best is trial 41 with value: 34.82684326171875.\n",
      "C:\\Users\\Artem Frenk\\AppData\\Local\\Temp\\ipykernel_19336\\2609833236.py:15: FutureWarning: suggest_loguniform has been deprecated in v3.0.0. This feature will be removed in v6.0.0. See https://github.com/optuna/optuna/releases/tag/v3.0.0. Use suggest_float(..., log=True) instead.\n",
      "  eta = trial.suggest_loguniform('eta', 1e-5, 1e-1)\n"
     ]
    },
    {
     "name": "stdout",
     "output_type": "stream",
     "text": [
      "Removing outliers using isolation forests\n",
      "IsolationForest outlier detection removed 7.713036822428724% rows\n",
      "875340 rows remaining\n",
      "Splitting data into training and testing sets.\n",
      "Standardizing training data.\n"
     ]
    },
    {
     "name": "stderr",
     "output_type": "stream",
     "text": [
      "[I 2024-10-24 20:50:12,355] Trial 47 finished with value: 37.864933013916016 and parameters: {'eta': 0.0013595460820877633, 'batch_size': 32, 'init_type': 'kaiming', 'epochs': 44}. Best is trial 41 with value: 34.82684326171875.\n",
      "C:\\Users\\Artem Frenk\\AppData\\Local\\Temp\\ipykernel_19336\\2609833236.py:15: FutureWarning: suggest_loguniform has been deprecated in v3.0.0. This feature will be removed in v6.0.0. See https://github.com/optuna/optuna/releases/tag/v3.0.0. Use suggest_float(..., log=True) instead.\n",
      "  eta = trial.suggest_loguniform('eta', 1e-5, 1e-1)\n"
     ]
    },
    {
     "name": "stdout",
     "output_type": "stream",
     "text": [
      "Removing outliers using isolation forests\n",
      "IsolationForest outlier detection removed 9.094062401818453% rows\n",
      "862241 rows remaining\n",
      "Splitting data into training and testing sets.\n",
      "Standardizing training data.\n"
     ]
    },
    {
     "name": "stderr",
     "output_type": "stream",
     "text": [
      "[I 2024-10-24 21:16:23,252] Trial 48 finished with value: 35.71623229980469 and parameters: {'eta': 0.0003930593898181984, 'batch_size': 32, 'init_type': 'kaiming', 'epochs': 83}. Best is trial 41 with value: 34.82684326171875.\n",
      "C:\\Users\\Artem Frenk\\AppData\\Local\\Temp\\ipykernel_19336\\2609833236.py:15: FutureWarning: suggest_loguniform has been deprecated in v3.0.0. This feature will be removed in v6.0.0. See https://github.com/optuna/optuna/releases/tag/v3.0.0. Use suggest_float(..., log=True) instead.\n",
      "  eta = trial.suggest_loguniform('eta', 1e-5, 1e-1)\n"
     ]
    },
    {
     "name": "stdout",
     "output_type": "stream",
     "text": [
      "Removing outliers using isolation forests\n",
      "IsolationForest outlier detection removed 7.182619256972603% rows\n",
      "880371 rows remaining\n",
      "Splitting data into training and testing sets.\n",
      "Standardizing training data.\n"
     ]
    },
    {
     "name": "stderr",
     "output_type": "stream",
     "text": [
      "[I 2024-10-24 21:40:54,802] Trial 49 finished with value: 36.11970520019531 and parameters: {'eta': 0.0008945982753437412, 'batch_size': 32, 'init_type': 'kaiming', 'epochs': 74}. Best is trial 41 with value: 34.82684326171875.\n"
     ]
    }
   ],
   "execution_count": 10
  },
  {
   "metadata": {
    "ExecuteTime": {
     "end_time": "2024-10-24T04:02:11.067529Z",
     "start_time": "2024-10-24T04:02:11.062278Z"
    }
   },
   "cell_type": "code",
   "source": " ",
   "id": "87eec817fc3451fc",
   "outputs": [
    {
     "data": {
      "text/plain": [
       "array([[3.14676916e-02, 0.00000000e+00, 0.00000000e+00, ...,\n",
       "        9.36688184e-02, 2.62968595e-02, 7.96907790e-02],\n",
       "       [2.79712814e-02, 4.22953184e-04, 1.01781837e-03, ...,\n",
       "        3.36519746e-02, 1.31369941e-02, 1.07238227e-01],\n",
       "       [1.15835268e-02, 0.00000000e+00, 0.00000000e+00, ...,\n",
       "        2.60951649e-02, 8.34655812e-03, 2.19255146e-02],\n",
       "       ...,\n",
       "       [2.64232525e-03, 3.46682938e-05, 4.80515112e-05, ...,\n",
       "        6.03196251e-02, 3.05398592e-02, 8.53127257e-02],\n",
       "       [1.63610644e-02, 7.86276903e-03, 6.11564688e-03, ...,\n",
       "        1.57250339e-01, 4.59359500e-02, 2.08292342e-01],\n",
       "       [5.73304508e-02, 1.59820834e-03, 2.08805658e-03, ...,\n",
       "        1.33333164e-01, 3.99768631e-02, 1.12438520e-01]])"
      ]
     },
     "execution_count": 4,
     "metadata": {},
     "output_type": "execute_result"
    }
   ],
   "execution_count": 4
  },
  {
   "metadata": {},
   "cell_type": "code",
   "outputs": [],
   "execution_count": null,
   "source": "",
   "id": "82b88a357122071d"
  }
 ],
 "metadata": {
  "kernelspec": {
   "display_name": "Python 3",
   "language": "python",
   "name": "python3"
  },
  "language_info": {
   "codemirror_mode": {
    "name": "ipython",
    "version": 2
   },
   "file_extension": ".py",
   "mimetype": "text/x-python",
   "name": "python",
   "nbconvert_exporter": "python",
   "pygments_lexer": "ipython2",
   "version": "2.7.6"
  }
 },
 "nbformat": 4,
 "nbformat_minor": 5
}
